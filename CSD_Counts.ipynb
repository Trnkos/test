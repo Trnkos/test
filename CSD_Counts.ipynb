{
  "nbformat": 4,
  "nbformat_minor": 0,
  "metadata": {
    "colab": {
      "provenance": [],
      "authorship_tag": "ABX9TyMB8n4oSeluhkx3ecGTpEBL",
      "include_colab_link": true
    },
    "kernelspec": {
      "name": "python3",
      "display_name": "Python 3"
    },
    "language_info": {
      "name": "python"
    }
  },
  "cells": [
    {
      "cell_type": "markdown",
      "metadata": {
        "id": "view-in-github",
        "colab_type": "text"
      },
      "source": [
        "<a href=\"https://colab.research.google.com/github/Trnkos/test/blob/main/CSD_Counts.ipynb\" target=\"_parent\"><img src=\"https://colab.research.google.com/assets/colab-badge.svg\" alt=\"Open In Colab\"/></a>"
      ]
    },
    {
      "cell_type": "code",
      "execution_count": null,
      "metadata": {
        "colab": {
          "base_uri": "https://localhost:8080/"
        },
        "id": "YvN0DqVEpGnL",
        "outputId": "6147eb80-aa11-4e2b-edb5-c5fe3b930ca1"
      },
      "outputs": [
        {
          "output_type": "stream",
          "name": "stdout",
          "text": [
            "Hotovo! Výsledek uložen do probability_output.xlsx\n"
          ]
        }
      ],
      "source": [
        "import pandas as pd\n",
        "import numpy as np\n",
        "from scipy.stats import norm\n",
        "\n",
        "def analyze_vehicle_probabilities(reference_file, data_file, output_file):\n",
        "    # Načtení referenčních dat\n",
        "    ref_df = pd.read_excel(reference_file)\n",
        "    ref_df = ref_df.dropna()\n",
        "\n",
        "    # Načtení nových dat\n",
        "    data_df = pd.read_excel(data_file, sheet_name='radar')\n",
        "\n",
        "    # Získání unikátních kategorií\n",
        "    categories = ref_df['skupina_vozidel'].unique()\n",
        "\n",
        "    # Výstupní seznam\n",
        "    output_data = []\n",
        "\n",
        "    # Iterace přes jednotlivé směry\n",
        "    for direction in ['+', '-']:\n",
        "        data_dir = data_df[data_df['smer'] == direction]\n",
        "        unique_lengths = data_dir['delka'].value_counts().reset_index()\n",
        "        unique_lengths.columns = ['delka', 'pocet']\n",
        "\n",
        "        # Iterace přes unikátní délky\n",
        "        for _, row in unique_lengths.iterrows():\n",
        "            length = row['delka']\n",
        "            total_count = row['pocet']\n",
        "\n",
        "            prob_dict = {cat: 0 for cat in categories}\n",
        "            count_dict = {cat: 0 for cat in categories}\n",
        "            total_prob = 0\n",
        "\n",
        "            # Výpočet pravděpodobnosti pro každý druh vozidla\n",
        "            for _, ref_row in ref_df[ref_df['smer'] == direction].iterrows():\n",
        "                group = ref_row['skupina_vozidel']\n",
        "                mean_length = ref_row['střední hodnota (filtrováno)']\n",
        "                std_dev = ref_row['směrodatná odchylka (filtrováno)']\n",
        "\n",
        "                if std_dev > 0:\n",
        "                    prob = norm.pdf(length, mean_length, std_dev)\n",
        "                else:\n",
        "                    prob = 0\n",
        "\n",
        "                prob_dict[group] = prob\n",
        "                total_prob += prob\n",
        "\n",
        "            # Normalizace pravděpodobností, aby součet byl 100 %\n",
        "            if total_prob > 0:\n",
        "                prob_dict = {k: (v / total_prob) * 100 for k, v in prob_dict.items()}\n",
        "\n",
        "            # Výpočet počtu vozidel v kategoriích\n",
        "            count_dict = {k: (v / 100) * total_count for k, v in prob_dict.items()}\n",
        "\n",
        "            # Přidání dat do výstupního seznamu\n",
        "            row_data = [length, direction, total_count] + [prob_dict[cat] for cat in categories] + [count_dict[cat] for cat in categories]\n",
        "            output_data.append(row_data)\n",
        "\n",
        "    # Převod do DataFrame\n",
        "    column_names = ['unikátní délka', 'směr', 'celkový počet'] + [f'pravděpodobnost_{cat} (%)' for cat in categories] + [f'počet_{cat}' for cat in categories]\n",
        "    output_df = pd.DataFrame(output_data, columns=column_names)\n",
        "\n",
        "    # Seřazení podle délky\n",
        "    output_df = output_df.sort_values(by=['unikátní délka'])\n",
        "\n",
        "    # Uložení do Excelu\n",
        "    output_df.to_excel(output_file, index=False)\n",
        "\n",
        "# Spuštění analýzy\n",
        "reference_file = \"output2_vstup.xlsx\"\n",
        "data_file = \"radar_video_export.xlsx\"\n",
        "output_file = \"probability_output.xlsx\"\n",
        "analyze_vehicle_probabilities(reference_file, data_file, output_file)\n",
        "\n",
        "print(\"Hotovo! Výsledek uložen do probability_output.xlsx\")\n"
      ]
    }
  ]
}